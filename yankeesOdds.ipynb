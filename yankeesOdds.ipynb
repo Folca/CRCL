{
 "cells": [
  {
   "cell_type": "code",
   "execution_count": 1,
   "metadata": {},
   "outputs": [],
   "source": [
    "import webbrowser\n",
    "import requests\n",
    "import bs4\n",
    "from selenium import webdriver\n",
    "from selenium.webdriver.support.ui import WebDriverWait\n",
    "from selenium.webdriver.support import expected_conditions as EC\n",
    "from selenium.webdriver.common.by import By\n",
    "from selenium.common.exceptions import TimeoutException\n",
    "import numpy as np\n",
    "import time\n",
    "import os, sys\n",
    "from stat import S_ISREG, ST_CTIME, ST_MODE\n",
    "import shutil\n",
    "from zipfile import ZipFile\n",
    "\n",
    "# Set up browser\n",
    "browser = webdriver.Chrome(executable_path=r\"/Users/DanielVassallo/chromedriver.exe\")\n",
    "browser.get('https://www.oddsshark.com/mlb/odds')\n"
   ]
  },
  {
   "cell_type": "code",
   "execution_count": 2,
   "metadata": {},
   "outputs": [],
   "source": [
    "leftCol = browser.find_element_by_class_name('op-left-column-wrapper')\n",
    "topTeams = leftCol.find_elements_by_xpath('.//div[@class=\"op-team-data-wrapper not-futures\"]/div[@class=\"op-matchup-wrapper baseball\"]/div[@class=\"op-matchup-right\"]/div[@class=\"op-matchup-team op-matchup-text op-team-top\"]')\n",
    "bottomTeams = leftCol.find_elements_by_xpath('.//div[@class=\"op-team-data-wrapper not-futures\"]/div[@class=\"op-matchup-wrapper baseball\"]/div[@class=\"op-matchup-right\"]/div[@class=\"op-matchup-team op-matchup-text op-team-bottom\"]')\n",
    "\n",
    "oddsList = browser.find_element_by_id('op-results')\n"
   ]
  },
  {
   "cell_type": "code",
   "execution_count": 3,
   "metadata": {},
   "outputs": [
    {
     "name": "stdout",
     "output_type": "stream",
     "text": [
      "Game 2\n",
      "Home Team: NY Yankees (NYY)\n",
      "Away Team: Tampa Bay (TB)\n"
     ]
    }
   ],
   "source": [
    "for num, team in enumerate(topTeams):\n",
    "    teamName = eval(team.get_attribute('data-op-name'))\n",
    "    if teamName['short_name']=='NYY':\n",
    "        gameNum = num+1 # row of game\n",
    "        teamNum=1 # away team\n",
    "        homeShort = teamName['short_name']\n",
    "        homeLong = teamName['full_name']\n",
    "        Text = 'Away Team: '+homeLong+' ('+homeShort+')'\n",
    "        \n",
    "        # Get Away Team\n",
    "        awayShort = eval(bottomTeams[num].get_attribute('data-op-name'))['short_name']\n",
    "        awayLong = eval(bottomTeams[num].get_attribute('data-op-name'))['full_name']\n",
    "        Text2 = 'Home Team: '+awayLong+' ('+awayShort+')'\n",
    "        print('Game '+str(gameNum))\n",
    "        print(Text2)\n",
    "        print(Text)\n",
    "        break\n",
    "        \n",
    "for num, team in enumerate(bottomTeams):\n",
    "    teamName = eval(team.get_attribute('data-op-name'))\n",
    "    if teamName['short_name']=='NYY':\n",
    "        gameNum = num+1 # row of game\n",
    "        teamNum=2 # home team\n",
    "        awayShort = teamName['short_name']\n",
    "        awayLong = teamName['full_name']\n",
    "        Text = 'Home Team: '+awayLong+' ('+awayShort+')'\n",
    "        \n",
    "        # Get Home Team\n",
    "        homeShort = eval(topTeams[num].get_attribute('data-op-name'))['short_name']\n",
    "        homeLong = eval(topTeams[num].get_attribute('data-op-name'))['full_name']\n",
    "        Text2 = 'Away Team: '+homeLong+' ('+homeShort+')'\n",
    "        print('Game '+str(gameNum))\n",
    "        print(Text)\n",
    "        print(Text2)\n",
    "        break\n",
    "        "
   ]
  },
  {
   "cell_type": "code",
   "execution_count": 4,
   "metadata": {},
   "outputs": [],
   "source": [
    "t1Odds = '//*[@id=\"op-results\"]/div['+str(gameNum*2)+']/div/div[1]'\n",
    "t2Odds = '//*[@id=\"op-results\"]/div['+str(gameNum*2)+']/div/div[3]'\n",
    "topOdds = oddsList.find_elements_by_xpath(t1Odds)\n",
    "bottomOdds = oddsList.find_elements_by_xpath(t2Odds)\n"
   ]
  },
  {
   "cell_type": "code",
   "execution_count": 5,
   "metadata": {},
   "outputs": [],
   "source": [
    "awayOdds = []\n",
    "homeOdds = []\n",
    "OverUnder = []\n",
    "for odds in topOdds:\n",
    "    if eval(odds.get_attribute('data-op-moneyline'))['fullgame']:\n",
    "        awayOdds.append(eval(odds.get_attribute('data-op-moneyline'))['fullgame'])\n",
    "        OverUnder.append(eval(odds.get_attribute('data-op-total'))['fullgame'])\n",
    "awayOdds = np.array(awayOdds).astype(int)\n",
    "OverUnder = np.array(OverUnder).astype(float)\n",
    "    \n",
    "for odds in bottomOdds:\n",
    "    if eval(odds.get_attribute('data-op-moneyline'))['fullgame']:\n",
    "        homeOdds.append(eval(odds.get_attribute('data-op-moneyline'))['fullgame'])\n",
    "homeOdds = np.array(homeOdds).astype(int)\n"
   ]
  },
  {
   "cell_type": "code",
   "execution_count": 6,
   "metadata": {},
   "outputs": [],
   "source": [
    "FinalAway = int(np.round(np.mean(awayOdds/5))*5)\n",
    "if FinalAway>0:\n",
    "    FinalAway = '+'+str(FinalAway)\n",
    "else:\n",
    "    FinalAway = str(FinalAway)\n",
    "FinalHome = int(np.round(np.mean(homeOdds/5))*5)\n",
    "if FinalHome>0:\n",
    "    FinalHome = '+'+str(FinalHome)\n",
    "else:\n",
    "    FinalHome = str(FinalHome)\n",
    "FinalOU = str(np.median(OverUnder))\n"
   ]
  },
  {
   "cell_type": "code",
   "execution_count": 7,
   "metadata": {},
   "outputs": [
    {
     "name": "stdout",
     "output_type": "stream",
     "text": [
      "Odds: \n",
      "NY Yankees: +145\n",
      "Tampa Bay: -155\n",
      "O/U: 10.0\n"
     ]
    }
   ],
   "source": [
    "T1 = 'Odds: \\n'+awayLong+': '+FinalAway+'\\n'+homeLong+': '+FinalHome+'\\n'+'O/U: '+FinalOU\n",
    "print(T1)\n"
   ]
  },
  {
   "cell_type": "code",
   "execution_count": null,
   "metadata": {},
   "outputs": [],
   "source": []
  }
 ],
 "metadata": {
  "kernelspec": {
   "display_name": "Python 3",
   "language": "python",
   "name": "python3"
  },
  "language_info": {
   "codemirror_mode": {
    "name": "ipython",
    "version": 3
   },
   "file_extension": ".py",
   "mimetype": "text/x-python",
   "name": "python",
   "nbconvert_exporter": "python",
   "pygments_lexer": "ipython3",
   "version": "3.6.7"
  }
 },
 "nbformat": 4,
 "nbformat_minor": 2
}
